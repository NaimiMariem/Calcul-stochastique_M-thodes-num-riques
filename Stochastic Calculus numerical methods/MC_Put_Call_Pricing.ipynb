{
  "nbformat": 4,
  "nbformat_minor": 0,
  "metadata": {
    "colab": {
      "provenance": []
    },
    "kernelspec": {
      "name": "python3",
      "display_name": "Python 3"
    },
    "language_info": {
      "name": "python"
    }
  },
  "cells": [
    {
      "cell_type": "markdown",
      "source": [
        "##BE1- Monte Carlo"
      ],
      "metadata": {
        "id": "7LVECbDWt-rp"
      }
    },
    {
      "cell_type": "markdown",
      "source": [
        "Exercice1:\n",
        "\n",
        "```\n",
        "Brownian Motion Simulation.\n",
        "Time interval [0,T].\n",
        "\n",
        "\n",
        "\n",
        "\n",
        "\n",
        "```\n",
        "\n"
      ],
      "metadata": {
        "id": "T5y_X8hkuGzI"
      }
    },
    {
      "cell_type": "code",
      "source": [
        "import numpy as np\n",
        "import matplotlib.pyplot as plt\n",
        "import scipy.stats as stats\n",
        "\n",
        "\n",
        "\n",
        "def temps_arret_MB(T,a,b):\n",
        "    B=0\n",
        "    i=0\n",
        "    l=[0]\n",
        "    while B>-a and B<b and i < len(T)-1:\n",
        "        B=+np.sqrt(T[i+1]-T[i])*np.random.standard_normal(size=1)\n",
        "        l.append(B)\n",
        "        i+=1\n",
        "\n",
        "    if B<-a and i < len(T):\n",
        "       return -a,T[i]\n",
        "    elif B>b and i < len(T):\n",
        "       return b,T[i]\n",
        "    else:\n",
        "       return -1\n",
        "\n",
        "def simu_tau(N,a,b):\n",
        "    s_a,s_b=0,0\n",
        "    tau=[]\n",
        "    for i in range (N):\n",
        "       res =temps_arret_MB(T,a,b)\n",
        "       if res==-1:\n",
        "          pass\n",
        "       else:\n",
        "          gate,to=res\n",
        "          s_a+=gate==-a\n",
        "          s_b+=gate==b\n",
        "          tau.append(round(to,3))\n",
        "    return s_a,s_b,np.mean(tau)\n",
        "\n",
        "T=np.linspace(0,100,1000)\n",
        "N=100\n",
        "a,b=3,3\n",
        "print(simu_tau(N,a,b))\n",
        "\n",
        "\n"
      ],
      "metadata": {
        "colab": {
          "base_uri": "https://localhost:8080/"
        },
        "id": "gxDhZPRS_N_X",
        "outputId": "0e434471-d9cd-4738-cb7a-9b377faec50c"
      },
      "execution_count": null,
      "outputs": [
        {
          "output_type": "stream",
          "name": "stdout",
          "text": [
            "(0, 0, nan)\n"
          ]
        },
        {
          "output_type": "stream",
          "name": "stderr",
          "text": [
            "/usr/local/lib/python3.10/dist-packages/numpy/core/fromnumeric.py:3504: RuntimeWarning: Mean of empty slice.\n",
            "  return _methods._mean(a, axis=axis, dtype=dtype,\n",
            "/usr/local/lib/python3.10/dist-packages/numpy/core/_methods.py:129: RuntimeWarning: invalid value encountered in scalar divide\n",
            "  ret = ret.dtype.type(ret / rcount)\n"
          ]
        }
      ]
    },
    {
      "cell_type": "markdown",
      "source": [
        "#Exercice 2:\n",
        "\n",
        "Pricing d'un put et d'un Call"
      ],
      "metadata": {
        "id": "ilF6fVrKY9i_"
      }
    },
    {
      "cell_type": "code",
      "source": [
        "\n",
        "\n",
        "def CallPriceMC(N,beta,K):\n",
        "\n",
        "\n",
        "  G=np.random.standard_normal(N)\n",
        "  XMC=np.exp(beta*G)-K\n",
        "\n",
        "  XMC=[np.maximum(0,XMC[i]) for i in range(len(XMC))]\n",
        "  z = stats.norm.ppf(0.975)  #Quantile d'ordre 0.975\n",
        "  CI_C_lower = np.mean(XMC) - z * (np.std(np.maximum(np.exp(G) - K, 0)) / np.sqrt(N))\n",
        "  CI_C_upper = np.mean(XMC) + z * (np.std(np.maximum(np.exp(G) - K, 0)) / np.sqrt(N))\n",
        "\n",
        "\n",
        "  return np.mean(XMC), np.var(XMC),CI_C_lower,CI_C_upper\n",
        "\n",
        "\n",
        "\n",
        "def PutPriceMC(N,beta,K):\n",
        "\n",
        "\n",
        "  G=np.random.standard_normal(N)\n",
        "  XMC=K-np.exp(beta*G)\n",
        "  XMC=[np.maximum(0,XMC[i]) for i in range(len(XMC))]\n",
        "  z = stats.norm.ppf(0.975)\n",
        "  CI_C_lower = np.mean(XMC) - z * (np.std(K-np.maximum(np.exp(beta*G), 0)) / np.sqrt(N))\n",
        "  CI_C_upper = np.mean(XMC) + z * (np.std(K-np.maximum(np.exp(beta*G), 0)) / np.sqrt(N))\n",
        "\n",
        "\n",
        "  return np.mean(XMC), np.var(XMC),CI_C_lower,CI_C_upper\n",
        "\n",
        "\n",
        "\n",
        "def IS_call(N,beta,K):\n",
        "  Y=np.random.exponential(scale=2,size=N)\n",
        "  Y_MC_1=[np.maximum(0,K-np.exp(beta*np.sqrt(Y))) for i in range(len(Y))]\n",
        "  Y_MC_2=[np.maximum(0,K-np.exp(-beta*np.sqrt(Y))) for i in range(len(Y))]\n",
        "  Y_MC=Y_MC_1+Y_MC_2/(np.sqrt(2*np.pi)*np.sqrt(Y))\n",
        "\n",
        "  z = stats.norm.ppf(0.975)  #Quantile d'ordre 0.975\n",
        "  CI_C_lower = np.mean(Y_MC) - z * (np.std(Y_MC) / np.sqrt(N))\n",
        "  CI_C_upper = np.mean(Y_MC) + z * (np.std(Y_MC) / np.sqrt(N))\n",
        "\n",
        "  return np.mean(Y_MC),np.var(Y_MC),CI_C_lower, CI_C_upper\n",
        "\n",
        "\n",
        "N=[10,1000,10000,100000]\n",
        "val_call=[]\n",
        "val_put=[]\n",
        "\n",
        "\n",
        "for n in N:\n",
        "   values_1=CallPriceMC(n,1,1)\n",
        "   val_call.append(values_1[1])\n",
        "   values_2=PutPriceMC(n,1,1)\n",
        "   val_put.append(values_2[1])\n",
        "   print(values_1[0],values_2[0])\n",
        "\n",
        "#plt.plot(N,val_call)\n",
        "\n",
        "#plt.show()\n",
        "\n",
        "#plt.plot(N,val_put)\n",
        "\n",
        "\n",
        "print(IS_call(100,1,1))\n",
        "\n",
        "\n",
        "\n",
        "\n",
        "\n",
        "\n",
        "\n",
        "\n",
        "\n",
        "\n",
        "\n"
      ],
      "metadata": {
        "colab": {
          "base_uri": "https://localhost:8080/"
        },
        "id": "HPcKP_0r_699",
        "outputId": "194c44b4-3a02-48fa-c997-e404c3ef9453"
      },
      "execution_count": null,
      "outputs": [
        {
          "output_type": "stream",
          "name": "stdout",
          "text": [
            "1.192311192601196 0.28433147775136874\n",
            "0.9378980142282287 0.23925784071673675\n",
            "0.8653677475583003 0.2372893675160577\n",
            "0.8858226929427206 0.23766232497179604\n",
            "(0.24167081122637565, 0.003106399133878326, 0.23074693629417622, 0.25259468615857505)\n"
          ]
        }
      ]
    }
  ]
}