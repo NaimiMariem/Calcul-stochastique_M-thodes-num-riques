{
  "nbformat": 4,
  "nbformat_minor": 0,
  "metadata": {
    "colab": {
      "provenance": []
    },
    "kernelspec": {
      "name": "python3",
      "display_name": "Python 3"
    },
    "language_info": {
      "name": "python"
    }
  },
  "cells": [
    {
      "cell_type": "markdown",
      "source": [
        "Partie  1: Recuit simulé\n",
        "\n",
        "Détermination des N points d'un plan d'expérience optimal pour le critère maximin"
      ],
      "metadata": {
        "id": "q-IAz2oERsap"
      }
    },
    {
      "cell_type": "code",
      "execution_count": null,
      "metadata": {
        "colab": {
          "base_uri": "https://localhost:8080/"
        },
        "id": "wbJXTD3TRrS3",
        "outputId": "7a1bb3d3-01f1-481d-8575-144cbc0fd4c6"
      },
      "outputs": [
        {
          "output_type": "stream",
          "name": "stdout",
          "text": [
            "0.7071067811865476\n"
          ]
        }
      ],
      "source": [
        "import numpy as np\n",
        "import matplotlib.pyplot as plt\n",
        "\n",
        "#Fonction qui calcule le critère\n",
        "def calculer_critere(X):\n",
        "    N = X.shape[0]\n",
        "    phi = np.inf\n",
        "\n",
        "    for i in range(N):\n",
        "        for k in range(N):\n",
        "            if k != i:\n",
        "                distance = np.linalg.norm(X[k, :] - X[i, :])\n",
        "                phi = min(phi, distance)\n",
        "\n",
        "    return phi\n",
        "\n",
        "#Essai avec les configuration suivante:\n",
        "X1=np.array([[0 , 0], [0 , 1] , [1 , 1],[0.5 , 0.5], [1 , 0]])\n",
        "X2=np.array([[0 , 0], [0 , 1] , [1 , 1]])\n",
        "\n",
        "\n",
        "\n",
        "print(calculer_critere(X1))"
      ]
    },
    {
      "cell_type": "markdown",
      "source": [
        "On remarque que pour des configurations initiales connus, on retrouve les bonnes valeurs de la distance minimale."
      ],
      "metadata": {
        "id": "qGMnuQZuUst5"
      }
    },
    {
      "cell_type": "markdown",
      "source": [
        "On teste pour différentes valeurs de N.\n",
        "\n",
        "Pour N=3, on obtient le meilleur plan suivant:\n",
        "\n",
        "[[0.         1.        ]\n",
        " [1.         0.78536779]\n",
        " [0.23582952 0.        ]]\n",
        "\n",
        " pour le plan initial suivant:\n",
        "[[0.45195748 0.37836121]\n",
        " [0.50446251 0.34395727]\n",
        " [0.60529093 0.14544814]]\n",
        "\n",
        "Les valeurs sont limités par les bords imposés.\n",
        "\n",
        "\n",
        "\n",
        "On teste pour différentes valeurs de N.\n",
        "\n",
        "Pour N=5, on obtient le meilleur plan suivant:\n",
        "[[0.44157261 0.        ]\n",
        " [0.         0.52606642]\n",
        " [0.27816887 0.99708704]\n",
        " [1.         0.        ]\n",
        " [0.94694043 0.97928341]]\n",
        "\n",
        " pour le plan initial suivant:\n",
        "\n",
        " [[0.02520838 0.7616597 ]\n",
        " [0.66391711 0.86024599]\n",
        " [0.59425411 0.28317487]\n",
        " [0.64387155 0.06036192]\n",
        " [0.67717845 0.54570381]]\n",
        "\n",
        "\n",
        "L'algorithme a l'air de bien marcher dans ce cas.\n",
        "\n",
        "\n",
        "\n"
      ],
      "metadata": {
        "id": "l_1JHxEwbGwO"
      }
    },
    {
      "cell_type": "markdown",
      "source": [
        "On essaie dans la suite de varier la méthode d'exploration en changeant l'echelle de perturbation et la fonction de perturbation ( par une perturbation aléatoire)\n",
        "\n",
        "\n",
        "\n",
        "On remarque qu'avec le critère linéaire la valeur de phi atteint des maximum locaux pour plusieurs intervalles d'itérations ( ce qui veut dire que l'exploration du domaine est moins qualitative)\n",
        "\n",
        "\n",
        "En terme de convergence,  la courbe de phi dépend de la configuration initiale et on a parfois l'impression d'atteindre un maximumm global, mais la différence entre les valeurs de phi_max pour les différentes stratégies de refroidissement ne confirment pas la convergence."
      ],
      "metadata": {
        "id": "a9JNy77jcmcr"
      }
    },
    {
      "cell_type": "markdown",
      "source": [
        "**Exercice 2 :**\n",
        "\n",
        "Gradient stochastique:"
      ],
      "metadata": {
        "id": "tCYAbW4ziZE3"
      }
    },
    {
      "cell_type": "code",
      "source": [
        "from math import *\n",
        "from random import *\n",
        "import matplotlib.pyplot as plt\n",
        "import numpy as np\n",
        "import scipy.stats\n",
        "from scipy.stats import expon,norm,uniform\n",
        "\n",
        "#rng(31410) #initialisation du génératuer pour avoir les mêmes données.\n",
        "np.random.seed(seed=31410)\n",
        "nt = 100 #taille de l'échantillon total\n",
        "T = 10 #Dimension de la variable explicative\n",
        "d = 200\n",
        "rsnr=30\n",
        "Xt=norm.rvs(size=(nt,d))\n",
        "Xt=Xt/(np.ones((nt,1))*(np.sum(Xt**2,axis=0))**(1/2))   #chaque observation $x_i$ est normalisé de norme 1.\n",
        "# create signal\n",
        "ind=np.random.permutation(d) # crée une permutation de taille d\n",
        "indice=ind[0:T]  #récupère les T premiers indices de la permutation\n",
        "weights=norm.rvs(size=(T,1))\n",
        "for i in range (0,T):\n",
        "    weights[i]=weights[i] + copysign(1,weights[i])\n",
        "yt=Xt[0:nt,indice]@weights #le signal ne dépend que des variables dont les indices sont dans indice\n",
        "stdnoise=np.std(yt)/rsnr\n",
        "yt=yt+norm.rvs(loc =0, scale = stdnoise,size=(np.size(yt),1))\n",
        "\n",
        "\n",
        "#création du fichier d'apprentissage\n",
        "\n",
        "\n",
        "indapp=np.arange(0, floor(nt/2), 1)\n",
        "nb_app =np.size(indapp) #taille de l'échantillon d'apprentissage\n",
        "X=Xt[indapp,0:d]\n",
        "y=yt[indapp]\n",
        "n=np.size(indapp)\n",
        "\n",
        "#création du fichier de validation\n",
        "\n",
        "\n",
        "indval=np.arange(floor(nt/2),nt,1)\n",
        "Xv=Xt[indval,0:d]\n",
        "yv=yt[indval]"
      ],
      "metadata": {
        "id": "uzccATxZm2xg",
        "colab": {
          "base_uri": "https://localhost:8080/"
        },
        "outputId": "a462271b-aafb-4dfa-d60d-c24bc5618164"
      },
      "execution_count": null,
      "outputs": [
        {
          "output_type": "stream",
          "name": "stderr",
          "text": [
            "<ipython-input-1-8dd01472d91e>:21: DeprecationWarning: Conversion of an array with ndim > 0 to a scalar is deprecated, and will error in future. Ensure you extract a single element from your array before performing this operation. (Deprecated NumPy 1.25.)\n",
            "  weights[i]=weights[i] + copysign(1,weights[i])\n"
          ]
        }
      ]
    },
    {
      "cell_type": "code",
      "source": [
        "# fonction qui calcule le cout\n",
        "\n",
        "def compute_gradient(X, y, w, lambda_reg):\n",
        "\n",
        "    gradient = - X.T @ (y - X @ w) + lambda_reg * w\n",
        "    return gradient\n",
        "\n",
        "def stochastic_gradient_descent(X, y, lambda_reg, alpha, num_iterations):\n",
        "    n, d = X.shape\n",
        "    w = np.zeros((d, 1))  # Initialisation des poids à zéro\n",
        "    learning_rate=1\n",
        "    for k in range(num_iterations):\n",
        "        shuffled_indices = np.random.permutation(n)\n",
        "        for i in shuffled_indices:\n",
        "            xi = X[i:i+1,:]\n",
        "            yi = y[i:i+1]\n",
        "            gradient = compute_gradient(xi, yi, w, lambda_reg)\n",
        "            w = w - learning_rate * gradient\n",
        "        # actualisation de learening rate pour chaque iteration\n",
        "        learning_rate = 1 / (k + 1) ** alpha\n",
        "\n",
        "    return w\n",
        "\n",
        "# tester la méthode stochastic_gradient_descent\n",
        "lambda_reg = 10\n",
        "num_iterations = 1000\n",
        "alpha = 0.6\n",
        "w_hat = stochastic_gradient_descent(X, y, lambda_reg, alpha, num_iterations)\n",
        "loss_training = np.linalg.norm(y - X @ w_hat)**2 / 2\n",
        "mean_loss_training = np.linalg.norm(y - X @ w_hat)**2 / (2 * len(y))\n",
        "print(f\"l'erreur sur l'apprentissage: {loss_training}\")\n",
        "print(f\"l'erreur moyenne sur l'apprentissage: {mean_loss_training}\")"
      ],
      "metadata": {
        "colab": {
          "base_uri": "https://localhost:8080/"
        },
        "id": "dPs1eZkinhzo",
        "outputId": "dcc8bb5a-e9e3-4c23-c030-9950a10e386e"
      },
      "execution_count": null,
      "outputs": [
        {
          "output_type": "stream",
          "name": "stdout",
          "text": [
            "l'erreur sur l'apprentissage: 7.374655711927516\n",
            "l'erreur moyenne sur l'apprentissage: 0.14749311423855033\n"
          ]
        }
      ]
    },
    {
      "cell_type": "markdown",
      "source": [
        "La séquence choisie pour le critère est la suivante:\n",
        "$\\epsilon_{k}=1/k^\\alpha$ avec $\\alpha=0.65$.\n",
        "\n",
        "Pour 50 itérations on obtient les valeurs suivantes:\n",
        "\n",
        "l'erreur sur l'apprentissage: 7.426654843984631\n",
        "l'erreur moyenne sur l'apprentissage: 0.14853309687969263\n",
        "\n",
        "Pour 100 itérations on obtient:\n",
        "l'erreur sur l'apprentissage: 7.3518007170270945\n",
        "l'erreur moyenne sur l'apprentissage: 0.1470360143405419\n",
        "\n",
        "Cette valeur change peu en augmentant plus le nombre des itérations."
      ],
      "metadata": {
        "id": "1UMd9j7EqILo"
      }
    },
    {
      "cell_type": "code",
      "source": [
        "# tester la méthode stochastic_gradient_descent\n",
        "lambda_reg = 10\n",
        "num_iterations = 1000\n",
        "alpha = 0.6\n",
        "w_hat = stochastic_gradient_descent(X, y, lambda_reg, alpha, num_iterations)\n",
        "\n",
        "\n",
        "# Calculate the loss on the validation set\n",
        "loss_training = np.linalg.norm(y - X @ w_hat)**2\n",
        "loss_validation = np.linalg.norm(yv - Xv @ w_hat)**2\n",
        "\n",
        "# Calculate the mean loss on the validation set\n",
        "mean_loss_training = np.linalg.norm(y - X @ w_hat)**2 / (2 * len(y))\n",
        "mean_loss_validation = np.linalg.norm(yv - Xv @ w_hat)**2 / (2 * len(yv))\n",
        "\n",
        "print(f\"l'erreur sur l'apprentissage: {loss_training}\")\n",
        "print(f\"l'erreur sur la validation: {loss_validation}\")\n",
        "print(f\"l'erreur moyenne sur l'apprentissage: {mean_loss_training}\")\n",
        "print(f\"l'erreur moyenne sur la validation: {mean_loss_validation}\")"
      ],
      "metadata": {
        "colab": {
          "base_uri": "https://localhost:8080/"
        },
        "id": "jDIIf-ZNnlWP",
        "outputId": "9f19c03c-fd36-43fd-db68-45f61fd67f77"
      },
      "execution_count": null,
      "outputs": [
        {
          "output_type": "stream",
          "name": "stdout",
          "text": [
            "l'erreur sur l'apprentissage: 14.776055031034826\n",
            "l'erreur sur la validation: 26.786914524304624\n",
            "l'erreur moyenne sur l'apprentissage: 0.14776055031034827\n",
            "l'erreur moyenne sur la validation: 0.2678691452430462\n"
          ]
        }
      ]
    },
    {
      "cell_type": "markdown",
      "source": [
        "La valeur de l'erreur obtenue pour l'ensemble de validation est plus grande que celle de l'apprentissage.\n",
        "Lorsque la valeur de ce critère sur de validation est plus grande que celle sur le fichier d'apprentissage, cela suggère que le modèle a une meilleure performance sur les données d'apprentissage que sur les données de validation. Plusieurs raisons peuvent expliquer cela :\n",
        "* Le modèle peut être trop complexe et s'ajuster trop précisément aux données d'apprentissage, capturant ainsi le bruit dans les données.\n",
        "* Les hyperparamètres ou des caractéristiques du modèle ont été ajustés en fonction des données d'apprentissage, cela peut conduire à une performance moindre sur les données de validation si le modèle est trop spécifique aux données d'apprentissage.\n",
        "\n"
      ],
      "metadata": {
        "id": "G4OStO0Hns3F"
      }
    },
    {
      "cell_type": "markdown",
      "source": [
        "Question 3: Variation de lambda\n",
        "\n",
        " On compare les performances du modèle pour différentes valeurs de λ et on trace des courbes ou des graphiques pour visualiser la relation entre λ et les performances du modèle."
      ],
      "metadata": {
        "id": "erVS_bb_rdIr"
      }
    },
    {
      "cell_type": "code",
      "source": [
        "alpha = 0.65\n",
        "max_iter = 1000\n",
        "# Liste des valeurs de lambda à tester\n",
        "lambda_values = [0.001, 0.01, 0.1, 1, 10 , 11 ]\n",
        "results = {}\n",
        "\n",
        "# Boucle sur les valeurs de lambda\n",
        "for lam in lambda_values:\n",
        "\n",
        "    w_hat = stochastic_gradient_descent(X, y, lam, alpha, max_iter)\n",
        "\n",
        "\n",
        "    loss = np.linalg.norm(y - X @ w_hat)**2 / (2 * len(y))\n",
        "\n",
        "\n",
        "    results[lam] = {'w_hat': w_hat, 'loss': loss}\n",
        "\n",
        "\n",
        "for lam, result in results.items():\n",
        "    print(f\"Lambda = {lam}, Loss = {result['loss']}\")\n",
        "\n",
        "\n",
        "plt.plot(lambda_values, [result['loss'] for result in results.values()], marker='o')\n",
        "plt.xlabel('Lambda')\n",
        "plt.ylabel('Loss ')\n",
        "plt.title('Performances en fonction de Lambda')\n",
        "plt.show()"
      ],
      "metadata": {
        "colab": {
          "base_uri": "https://localhost:8080/",
          "height": 583
        },
        "id": "zxjE7bfyri80",
        "outputId": "dd72d0d3-6c94-4e5e-e1b2-4ac0d93b629b"
      },
      "execution_count": null,
      "outputs": [
        {
          "output_type": "stream",
          "name": "stdout",
          "text": [
            "Lambda = 0.001, Loss = 0.00014906846911111102\n",
            "Lambda = 0.01, Loss = 0.0079413034450632\n",
            "Lambda = 0.1, Loss = 0.07487403648814422\n",
            "Lambda = 1, Loss = 0.13622287118455753\n",
            "Lambda = 10, Loss = 0.1471480062574791\n",
            "Lambda = 11, Loss = 0.1475153407736915\n"
          ]
        },
        {
          "output_type": "display_data",
          "data": {
            "text/plain": [
              "<Figure size 640x480 with 1 Axes>"
            ],
            "image/png": "[encoded data removed]"
          },
          "metadata": {}
        }
      ]
    },
    {
      "cell_type": "markdown",
      "source": [
        "On trouve que a partir de la valeur 10 si on change lambda l'erreur reste la meme du coup on choisit la valeur minimal de lambda qui ne fait pas varier largement l'erreur."
      ],
      "metadata": {
        "id": "bT19BQLlrskT"
      }
    },
    {
      "cell_type": "markdown",
      "source": [
        "Question 4:"
      ],
      "metadata": {
        "id": "rpePWbmcsWUr"
      }
    },
    {
      "cell_type": "code",
      "source": [
        "# Variation de la taille de l'échantillon d'apprentissage\n",
        "sizes_apprentissage = np.arange(10, 60, 10)\n",
        "losses_validation = []\n",
        "\n",
        "for size_app in sizes_apprentissage:\n",
        "    indapp = np.arange(0, size_app, 1)\n",
        "    X = Xt[indapp, 0:d]\n",
        "    y = yt[indapp]\n",
        "    n = np.size(indapp)\n",
        "\n",
        "    indval = np.arange(size_app, nt, 1)\n",
        "    Xv = Xt[indval, 0:d]\n",
        "    yv = yt[indval]\n",
        "\n",
        "    w_hat = stochastic_gradient_descent(X, y, lambda_reg, alpha, num_iterations)\n",
        "\n",
        "    # tester le performance de l'algorithme\n",
        "    loss_val = np.linalg.norm(yv - Xv @ w_hat)**2 / (2 * len(yv))\n",
        "    losses_validation.append(loss_val)\n",
        "\n",
        "    print(f\"Taille apprentissage: {size_app}, Loss Validation: {loss_val}\")\n",
        "\n",
        "plt.plot(sizes_apprentissage, losses_validation, marker='o')\n",
        "plt.xlabel('Taille de l\\'échantillon d\\'apprentissage')\n",
        "plt.ylabel('Perte de validation')\n",
        "plt.title('Perte de validation en fonction de la taille de l\\'échantillon d\\'apprentissage')\n",
        "plt.show()"
      ],
      "metadata": {
        "colab": {
          "base_uri": "https://localhost:8080/",
          "height": 565
        },
        "id": "LG_IPLUer3NO",
        "outputId": "347c430d-7615-474c-f724-a9c1478f71b5"
      },
      "execution_count": null,
      "outputs": [
        {
          "output_type": "stream",
          "name": "stdout",
          "text": [
            "Taille apprentissage: 10, Loss Validation: 0.20883863569718258\n",
            "Taille apprentissage: 20, Loss Validation: 0.22649222981461142\n",
            "Taille apprentissage: 30, Loss Validation: 0.21110367944029368\n",
            "Taille apprentissage: 40, Loss Validation: 0.2337916356064827\n",
            "Taille apprentissage: 50, Loss Validation: 0.2676963900735429\n"
          ]
        },
        {
          "output_type": "display_data",
          "data": {
            "text/plain": [
              "<Figure size 640x480 with 1 Axes>"
            ],
            "image/png": "[encoded data removed]"
          },
          "metadata": {}
        }
      ]
    },
    {
      "cell_type": "markdown",
      "source": [
        "La valeur de la taille de l'échantillon d'apprentissage qui minimse la perte sur l'ensemble de validation est N=30."
      ],
      "metadata": {
        "id": "xfxRYlWor7aA"
      }
    }
  ]
}