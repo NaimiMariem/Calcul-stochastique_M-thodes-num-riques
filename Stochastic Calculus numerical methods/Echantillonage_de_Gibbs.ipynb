{
  "nbformat": 4,
  "nbformat_minor": 0,
  "metadata": {
    "colab": {
      "provenance": []
    },
    "kernelspec": {
      "name": "python3",
      "display_name": "Python 3"
    },
    "language_info": {
      "name": "python"
    }
  },
  "cells": [
    {
      "cell_type": "code",
      "execution_count": 1,
      "metadata": {
        "colab": {
          "base_uri": "https://localhost:8080/",
          "height": 677
        },
        "id": "l_pVHwlR09-k",
        "outputId": "f3adb72a-58bb-4c6f-a8ad-b9683bd54e6c"
      },
      "outputs": [
        {
          "output_type": "stream",
          "name": "stderr",
          "text": [
            "<ipython-input-1-73aa7618ca31>:22: RuntimeWarning: invalid value encountered in scalar divide\n",
            "  return joint_density(x, y) / marginal_density_x(x)\n",
            "<ipython-input-1-73aa7618ca31>:10: IntegrationWarning: The occurrence of roundoff error is detected, which prevents \n",
            "  the requested tolerance from being achieved.  The error may be \n",
            "  underestimated.\n",
            "  result, _ = quad(integrand, -np.inf, np.inf)\n",
            "<ipython-input-1-73aa7618ca31>:15: IntegrationWarning: The occurrence of roundoff error is detected, which prevents \n",
            "  the requested tolerance from being achieved.  The error may be \n",
            "  underestimated.\n",
            "  result, _ = quad(integrand, -np.inf, np.inf)\n"
          ]
        },
        {
          "output_type": "display_data",
          "data": {
            "text/plain": [
              "<Figure size 640x480 with 1 Axes>"
            ],
            "image/png": "[encoded data removed]"
          },
          "metadata": {}
        }
      ],
      "source": [
        "import numpy as np\n",
        "import matplotlib.pyplot as plt\n",
        "from scipy.integrate import quad\n",
        "\n",
        "def joint_density(x, y):\n",
        "    return np.exp(-y**2 / 2 - x**2 * (1 + y + y**2) / 2)\n",
        "\n",
        "def marginal_density_y(y):\n",
        "    integrand = lambda x: joint_density(x, y)\n",
        "    result, _ = quad(integrand, -np.inf, np.inf)\n",
        "    return result\n",
        "\n",
        "def marginal_density_x(x):\n",
        "    integrand = lambda y: joint_density(x, y)\n",
        "    result, _ = quad(integrand, -np.inf, np.inf)\n",
        "    return result\n",
        "\n",
        "def conditional_density_x_given_y(x, y):\n",
        "    return joint_density(x, y) / marginal_density_y(y)\n",
        "\n",
        "def conditional_density_y_given_x(y, x):\n",
        "    return joint_density(x, y) / marginal_density_x(x)\n",
        "\n",
        "def gibbs_sampling(iterations):\n",
        "    samples = np.zeros((iterations, 2))\n",
        "    x, y = 0, 0  # Initialisation arbitraire\n",
        "\n",
        "    for i in range(iterations):\n",
        "        # Échantillonnage conditionnel de X\n",
        "        x = np.random.normal(loc=0, scale=1/np.sqrt(conditional_density_x_given_y(x, y)))\n",
        "\n",
        "        # Échantillonnage conditionnel de Y\n",
        "        y = np.random.normal(loc=0, scale=1/np.sqrt(conditional_density_y_given_x(y, x)))\n",
        "\n",
        "        samples[i, :] = [x, y]\n",
        "\n",
        "    return samples\n",
        "\n",
        "# Nombre d'itérations\n",
        "iterations = 1000\n",
        "\n",
        "# Échantillonnage de Gibbs\n",
        "samples = gibbs_sampling(iterations)\n",
        "\n",
        "# Tracé des échantillons\n",
        "plt.scatter(samples[:, 0], samples[:, 1], marker='.', color='blue')\n",
        "plt.title('Échantillonnage de Gibbs pour fXY(x, y)')\n",
        "plt.xlabel('X')\n",
        "plt.ylabel('Y')\n",
        "plt.show()\n",
        "\n",
        "\n",
        "\n"
      ]
    },
    {
      "cell_type": "code",
      "source": [],
      "metadata": {
        "id": "45DMbwqG6HmL"
      },
      "execution_count": null,
      "outputs": []
    }
  ]
}