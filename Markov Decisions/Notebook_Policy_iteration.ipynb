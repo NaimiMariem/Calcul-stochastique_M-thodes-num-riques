{
  "cells": [
    {
      "cell_type": "markdown",
      "metadata": {
        "id": "Li7PoBEJCMwU"
      },
      "source": [
        "# Notebook II: Policy iteration"
      ]
    },
    {
      "cell_type": "markdown",
      "metadata": {
        "id": "ZCqr4vrMCMwa"
      },
      "source": [
        "In this jupyter notebook we study the policy iteration algorithm and compare its performance with the value function algorithm."
      ]
    },
    {
      "cell_type": "markdown",
      "metadata": {
        "id": "WGUuKQPTCMwb"
      },
      "source": [
        "## 1. Cake eating"
      ]
    },
    {
      "cell_type": "markdown",
      "metadata": {
        "id": "fbD94Xz8CMwc"
      },
      "source": [
        "Recall that the value function in the cake eating example can be solved explicitly (see Section 3.2). We start implementing the utility function and the value function into our notebook for the parameters $\\alpha = 0,9$ and $\\gamma = 0,5$.   "
      ]
    },
    {
      "cell_type": "code",
      "execution_count": null,
      "metadata": {
        "id": "hRJil7gPCMwe"
      },
      "outputs": [],
      "source": [
        "gamma=0.5\n",
        "alpha=0.9\n",
        "\n",
        "def U(x):\n",
        "    return x**(1-gamma)/(1-gamma)\n",
        "\n",
        "def value_fct_cake_eating(x):\n",
        "    return (1-alpha**(1/gamma))**(-gamma)*U(x)"
      ]
    },
    {
      "cell_type": "markdown",
      "metadata": {
        "id": "DkXtnOOxCMwh"
      },
      "source": [
        "Recall that in Notebook 1 we have discretized the cake eating problem: we have split the cake with initial size $\\bar x$ into $n$ pieces with equal size $\\Delta = \\frac{\\bar x}{n}$. The state space of the discretized problem is $\\mathcal{Z} = \\{x_0, x_1, \\ldots, x_n\\}$, where $x_i = i * \\Delta$ for all $i \\in \\{0,1, \\ldots, n\\}$. The action sets are given by $A(x_i) = \\{j*\\Delta: 0 \\le j \\le i\\}$."
      ]
    },
    {
      "cell_type": "markdown",
      "metadata": {
        "id": "nE65vP2aCMwi"
      },
      "source": [
        "In the discretized problem one can identify a stationary policy with an integer-valued vector $\\pi$ of length $n+1$. We set $\\pi_n = j$ if $\\pi(x_n) = j* \\Delta$. In the state $x_0 =0$ nothing of the cake is left, and hence there is nothing to decide. Thus, only the policy values $\\pi_1, \\ldots, \\pi_n$ are of interest. Moreover, observe that it can not be optimal not to eat at least one unit of the cake. Thus, we can assume that $\\pi_n \\ge 1$ for all $n \\ge 1$.\n",
        "\n",
        "For each policy $\\pi = (\\pi_1, \\ldots, \\pi_n)$ we denote by $J^\\pi = (J^\\pi_0, \\ldots, J^\\pi_n)$ the vector with entries $J^\\pi_i = J(x_i, \\pi)$.\n",
        "\n",
        "The **policy iteration algorithm** for the cake eating example can be slightly simplied as follows:\n",
        "\n",
        "1. Choose an arbitrary stationary policy $\\pi = (\\pi_1, \\ldots, \\pi_n)$ such that $\\pi_n \\in \\{1, \\ldots, n\\}$.\n",
        "\n",
        "2. Determine $J^\\pi$ recursively from $0$ to $n$ as follows:\n",
        " \\begin{align*}\n",
        " J^\\pi_0 & =  0 \\\\\n",
        " J^\\pi_n & = U(\\pi_n*\\Delta) + \\alpha*J^\\pi_{n-\\pi_n}\n",
        " \\end{align*}\n",
        "\n",
        "3. Determine an updated policy $\\pi^{new}$ as follows:\n",
        "\\begin{align*}\n",
        "\\pi^{new}_n = \\text{argmax}_{a \\in \\{1, \\ldots,n\\}} \\{ U(a*\\Delta) + \\alpha*J^\\pi_{n-a} \\}\n",
        "\\end{align*}\n",
        "\n",
        "4. If $\\pi^{new} \\not= \\pi$, then set $\\pi = \\pi^{new}$ and go to 2.\n",
        "\n",
        "5. If $\\pi^{new} = \\pi$, then $\\pi$ is an optimal policy.   "
      ]
    },
    {
      "cell_type": "markdown",
      "metadata": {
        "id": "S2LhhmWFCMwj"
      },
      "source": [
        "We now put the algorithm into code. We choose $\\bar x = 1$ and $n = 100$. Notice that we also count the number of iterations needed until the updated policy coincides with the previous one.  "
      ]
    },
    {
      "cell_type": "code",
      "execution_count": null,
      "metadata": {
        "id": "Y3_IT_PmCMwk"
      },
      "outputs": [],
      "source": [
        "import numpy as np"
      ]
    },
    {
      "cell_type": "code",
      "execution_count": null,
      "metadata": {
        "colab": {
          "base_uri": "https://localhost:8080/"
        },
        "id": "VMbtsSPICMwl",
        "outputId": "41fec6a8-9cf4-4314-8399-e8a35577a443"
      },
      "outputs": [
        {
          "output_type": "stream",
          "name": "stdout",
          "text": [
            "9\n"
          ]
        }
      ],
      "source": [
        "xbar = 1\n",
        "n = 100\n",
        "Delta = xbar/n\n",
        "\n",
        "\n",
        "pi = np.ones(n+1)\n",
        "pi_new = np.zeros(n+1)\n",
        "J = np.zeros(n+1)\n",
        "iter = 0\n",
        "delta = 1\n",
        "\n",
        "while delta > 0:\n",
        "    iter = iter+1\n",
        "    for i in range(1,n+1):\n",
        "        J[i] = U(Delta*pi[i]) + alpha*J[i-int(pi[i])]\n",
        "    for i in range(1,n+1):\n",
        "        pi_new[i] = 1\n",
        "        for j in range(2,i):\n",
        "            if (U(Delta*j) + alpha*J[i-j] > U(Delta*pi_new[i]) + alpha*J[i-int(pi_new[i])]):\n",
        "                pi_new[i] = j\n",
        "    delta = max(abs(pi- pi_new))\n",
        "    for i in range(n+1):\n",
        "        pi[i] = pi_new[i]\n",
        "\n",
        "print(iter)"
      ]
    },
    {
      "cell_type": "markdown",
      "metadata": {
        "id": "Nfk8bGgyCMwm"
      },
      "source": [
        "**Exercise 1.**\n",
        "\n",
        "Let $\\pi_{opti}$ be the optimal policy obtained from the policy iteration algorithm. Compute $V(1) - J^{\\pi_{opti}}_n$, i.e. the difference of the true value function at $\\bar x = 1$ and the approximated value function from the policy iteration implementation.   "
      ]
    },
    {
      "cell_type": "code",
      "execution_count": null,
      "metadata": {
        "colab": {
          "base_uri": "https://localhost:8080/"
        },
        "id": "Ex-DxMnjCMwn",
        "outputId": "827b577a-ecb7-476a-8fa6-fcb79f625682"
      },
      "outputs": [
        {
          "output_type": "stream",
          "name": "stdout",
          "text": [
            "error from policy iteration: 0.04443966635609886\n"
          ]
        }
      ],
      "source": [
        "\n",
        "# Calculate J_opti_n\n",
        "J_opti_n = J[-1]\n",
        "\n",
        "# Compute the true value function V(1)\n",
        "V_1 = value_fct_cake_eating(1)\n",
        "\n",
        "# Compute the difference between V(1) and J_opti_n\n",
        "difference = V_1 - J_opti_n\n",
        "print('error from policy iteration:', difference)\n",
        "\n",
        "\n"
      ]
    },
    {
      "cell_type": "markdown",
      "metadata": {
        "id": "4Q4MC4pCCMwo"
      },
      "source": [
        "Recall the implementation of the **value function iteration** algorithm from Notebook I:"
      ]
    },
    {
      "cell_type": "code",
      "execution_count": null,
      "metadata": {
        "id": "Afeer6L6CMwp"
      },
      "outputs": [],
      "source": [
        "def bellman_op(v):\n",
        "    n = np.size(v)\n",
        "    v_new = np.zeros(n)\n",
        "    for i in range(1,n):\n",
        "        for j in range(i+1):\n",
        "          v_new[i] = max(v_new[i], U(j*Delta)+alpha*v[i-j])\n",
        "    return v_new"
      ]
    },
    {
      "cell_type": "code",
      "execution_count": null,
      "metadata": {
        "id": "D6plRCMdCMwq"
      },
      "outputs": [],
      "source": [
        "xbar = 1\n",
        "n = 100\n",
        "Delta = xbar/n\n",
        "\n",
        "niter = 10\n",
        "\n",
        "val_fct = np.zeros(n+1)\n",
        "\n",
        "for t in range(niter):\n",
        "    val_fct = bellman_op(val_fct)"
      ]
    },
    {
      "cell_type": "markdown",
      "metadata": {
        "id": "VmP-xLiuCMwq"
      },
      "source": [
        "The difference of the true value function at $\\bar x = 1$ and the approximated value function from the value function iteration with 10 steps is computed with the following code:"
      ]
    },
    {
      "cell_type": "code",
      "execution_count": null,
      "metadata": {
        "colab": {
          "base_uri": "https://localhost:8080/"
        },
        "id": "IHcgUsmxCMwr",
        "outputId": "14205057-4867-4c52-8d8f-e91b7facd21d"
      },
      "outputs": [
        {
          "output_type": "stream",
          "name": "stdout",
          "text": [
            "error from value fct iteration: 0.28850621388300013\n"
          ]
        }
      ],
      "source": [
        "print('error from value fct iteration:', abs(val_fct[n]-value_fct_cake_eating(1)))"
      ]
    },
    {
      "cell_type": "markdown",
      "metadata": {
        "id": "csw5YrY1CMws"
      },
      "source": [
        "Notice that the `error from value fct iteration` is considerably larger than the error from the policy iteration approximation (see Exercise 1)."
      ]
    },
    {
      "cell_type": "markdown",
      "metadata": {
        "id": "Y-7LWcznCMws"
      },
      "source": [
        "## 2. Risk taking"
      ]
    },
    {
      "cell_type": "markdown",
      "metadata": {
        "id": "aAqZJ9YOCMwt"
      },
      "source": [
        "We now consider again Example 0.2, Variant 2.\n",
        "\n",
        "As in Notebook 1 we slightly modify the problem so that the state space becomes finite. We assume that state $100$ is the maximal state and state $-100$ is the minimal state. Moreover, we assume that $-100$, $-99$, $99$ and $100$ are absorbing states. The transition probabilities for arbitrary policies $\\pi$ are given by\n",
        "\\begin{align*}\n",
        "P(\\pi)_{ij} = \\left\\{\n",
        "\\begin{array}{cc}\n",
        "1 & \\text{ if } i=j \\text{ and } i,j \\in \\{-100, -99, 99, 100\\}, \\\\\n",
        "\\frac12 & \\text{ if } |i-j| = 1 \\text{ and } \\pi(i)=1 \\text{ and } |i| \\le 98, \\\\\n",
        "\\frac12 & \\text{ if } |i-j| = 2 \\text{ and } \\pi(i)=2 \\text{ and } |i| \\le 98.\n",
        "\\end{array}\\right.\n",
        "\\end{align*}"
      ]
    },
    {
      "cell_type": "markdown",
      "metadata": {
        "id": "G-Nnz29lCMwt"
      },
      "source": [
        "The policy iteration algorithm for the modified problem is as follows:\n",
        "\n",
        "\n",
        "1. Choose an initial policy $\\pi^0$ and set $n = 0$.\n",
        "\n",
        "2. Solve the linear equation\n",
        "\n",
        "\\begin{align*}\\tag{*}\n",
        "(\\text{Id} - \\alpha P(\\pi)) y = b\n",
        "\\end{align*}\n",
        "\n",
        "where $b =(b_{-100}, b_{-99}, \\ldots, b_{100}) \\in \\mathbb{R}^{201}$ is given by\n",
        "\\begin{align*}\n",
        "b_j = \\left\\{ \\begin{array}{cc}\n",
        "1, & \\text{ if } j \\ge 1, \\\\\n",
        "0, & \\text{ if } j < 0.\n",
        "\\end{array} \\right.\n",
        "\\end{align*}\n",
        "Denote the solution by $V^n$.\n",
        "\n",
        "3. Choose $\\pi^{n+1}$ such that for all $i$ we have\n",
        "\n",
        "\\begin{align}\n",
        "\\pi^{n+1}(i) \\in \\text{argmax}_{a \\in \\{1, 2\\}} \\left\\{ 1_{[0, \\infty)}(i) + \\alpha \\sum_{j \\in \\mathcal{Y}(i,a)} P(\\pi^{n+1})_{ij} \\ V^n(j) \\right\\}.\n",
        "\\end{align}\n",
        "\n",
        "4. If $\\pi^{n+1} = \\pi^n$, stop. Else set $n = n+1$ and go to 2.  "
      ]
    },
    {
      "cell_type": "markdown",
      "metadata": {
        "id": "MyM8HZ6yCMwu"
      },
      "source": [
        "**Exercise 2.**\n",
        "\n",
        "a) Write a code that approximates the value function with the policy iteration algorithm. Plot the value function.\n",
        "\n",
        "b) When you run the code, how many times the policy is updated? Can you explain why the number is so low?\n",
        "\n",
        "c) Add the expressions `play safe` and `take risk` to the following sentence so that it describes the optimal policy:\n",
        "\n",
        "... if ahead and ... if behind.   "
      ]
    },
    {
      "cell_type": "markdown",
      "metadata": {
        "id": "W1RtayY7CMwu"
      },
      "source": [
        "**Hint:** for solving linear the linear equation (*) you can use the numpy function `np.linalg.solve(A,b)`. The matrix $A$ can be introduced in the notebook with the following code line:"
      ]
    },
    {
      "cell_type": "code",
      "execution_count": null,
      "metadata": {
        "id": "7KEX0P2FCMwv"
      },
      "outputs": [],
      "source": [
        "A = np.eye(201) - alpha*P"
      ]
    },
    {
      "cell_type": "code",
      "execution_count": null,
      "metadata": {
        "colab": {
          "base_uri": "https://localhost:8080/",
          "height": 472
        },
        "id": "HqGu1uwfCMwv",
        "outputId": "123cdffc-1465-49db-abf5-79190939774e"
      },
      "outputs": [
        {
          "output_type": "display_data",
          "data": {
            "text/plain": [
              "<Figure size 640x480 with 1 Axes>"
            ],
            "image/png": "[encoded data removed]"
          },
          "metadata": {}
        }
      ],
      "source": [
        "import numpy as np\n",
        "\n",
        "def transition_matrix(alpha, pi):\n",
        "    P_pi = np.zeros((201, 201))\n",
        "    for i in range(0, 201):\n",
        "        if i <= 98:\n",
        "            if pi[i] == 1:\n",
        "                P_pi[i, i-1] = 0.5\n",
        "                P_pi[i, i] = 0.5\n",
        "            elif pi[i] == 2:\n",
        "                P_pi[i, i-2] = 0.5\n",
        "                P_pi[i, i] = 0.5\n",
        "        else:\n",
        "            P_pi[i, i] = 1\n",
        "    return  P_pi\n",
        "\n",
        "def initial_policy():\n",
        "    return np.ones(201, dtype=int)\n",
        "\n",
        "def policy_evaluation(alpha, pi, n_iter=1000, tol=1e-6):\n",
        "    P = transition_matrix(alpha, pi)\n",
        "    b = np.zeros(201)\n",
        "    b[1:] = 1  # Set b_j = 1 for j >= 1\n",
        "    V = np.zeros(201)\n",
        "    for _ in range(n_iter):\n",
        "        V_new = np.linalg.solve(P, b)\n",
        "        if np.max(np.abs(V_new - V)) < tol:\n",
        "            break\n",
        "        V = V_new\n",
        "    return V\n",
        "\n",
        "def policy_improvement(alpha, V):\n",
        "    pi_new = np.ones(201, dtype=int)\n",
        "    for i in range(-100, 101):\n",
        "        if i >= 0:\n",
        "            q1 = 1 + alpha * (0.5 * V[i-1] + 0.5 * V[i])\n",
        "            q2 = 1 + alpha * (0.5 * V[i-2] + 0.5 * V[i])\n",
        "            if q1 > q2:\n",
        "                pi_new[i] = 1\n",
        "            else:\n",
        "                pi_new[i] = 2\n",
        "    return pi_new\n",
        "\n",
        "def policy_iteration(alpha, n_iter=1000, tol=1e-6):\n",
        "    pi = initial_policy()\n",
        "    for _ in range(n_iter):\n",
        "        V = policy_evaluation(alpha, pi)\n",
        "        pi_new = policy_improvement(alpha, V)\n",
        "        if np.array_equal(pi_new, pi):\n",
        "            break\n",
        "        pi = pi_new\n",
        "    return V, pi\n",
        "\n",
        "# Parameters\n",
        "alpha = 0.9\n",
        "\n",
        "# Policy iteration\n",
        "V, pi = policy_iteration(alpha)\n",
        "\n",
        "# Plot value function\n",
        "import matplotlib.pyplot as plt\n",
        "\n",
        "plt.plot(range(-100, 101), V)\n",
        "plt.xlabel('State')\n",
        "plt.ylabel('Value')\n",
        "plt.title('Value Function')\n",
        "plt.grid(True)\n",
        "plt.show()\n"
      ]
    },
    {
      "cell_type": "code",
      "execution_count": null,
      "metadata": {
        "colab": {
          "base_uri": "https://localhost:8080/"
        },
        "id": "YPZISIZ_CMww",
        "outputId": "c9657bbe-d59d-47b4-cc79-fcf5e461887d"
      },
      "outputs": [
        {
          "output_type": "stream",
          "name": "stdout",
          "text": [
            "Number of policy updates: 3\n"
          ]
        }
      ],
      "source": [
        "# Count policy updates\n",
        "_, pi = policy_iteration(alpha)\n",
        "policy_updates = np.sum(np.diff(pi) != 0)\n",
        "print(\"Number of policy updates:\", policy_updates)\n",
        "\n"
      ]
    },
    {
      "cell_type": "code",
      "execution_count": null,
      "metadata": {
        "colab": {
          "base_uri": "https://localhost:8080/"
        },
        "id": "tjEE5bluCMww",
        "outputId": "c7f392fb-7d83-4875-8214-2c096053c3d4"
      },
      "outputs": [
        {
          "output_type": "stream",
          "name": "stdout",
          "text": [
            "Optimal policy: if ahead and take risk, take risk, play safe, take risk, take risk, take risk, take risk, take risk, take risk, take risk, take risk, take risk, take risk, take risk, take risk, take risk, take risk, take risk, take risk, take risk, take risk, take risk, take risk, take risk, take risk, take risk, take risk, take risk, take risk, take risk, take risk, take risk, take risk, take risk, take risk, take risk, take risk, take risk, take risk, take risk, take risk, take risk, take risk, take risk, take risk, take risk, take risk, take risk, take risk, take risk, take risk, take risk, take risk, take risk, take risk, take risk, take risk, take risk, take risk, take risk, take risk, take risk, take risk, take risk, take risk, take risk, take risk, take risk, take risk, take risk, take risk, take risk, take risk, take risk, take risk, take risk, take risk, take risk, take risk, take risk, take risk, take risk, take risk, take risk, take risk, take risk, take risk, take risk, take risk, take risk, take risk, take risk, take risk, take risk, take risk, take risk, take risk, take risk, take risk, take risk, take risk, play safe, play safe, play safe, play safe, play safe, play safe, play safe, play safe, play safe, play safe, play safe, play safe, play safe, play safe, play safe, play safe, play safe, play safe, play safe, play safe, play safe, play safe, play safe, play safe, play safe, play safe, play safe, play safe, play safe, play safe, play safe, play safe, play safe, play safe, play safe, play safe, play safe, play safe, play safe, play safe, play safe, play safe, play safe, play safe, play safe, play safe, play safe, play safe, play safe, play safe, play safe, play safe, play safe, play safe, play safe, play safe, play safe, play safe, play safe, play safe, play safe, play safe, play safe, play safe, play safe, play safe, play safe, play safe, play safe, play safe, play safe, play safe, play safe, play safe, play safe, play safe, play safe, play safe, play safe, play safe, play safe, play safe, play safe, play safe, play safe, play safe, play safe, play safe, play safe, play safe, play safe, play safe, play safe, play safe, play safe, play safe, play safe, play safe, play safe, play safe if behind.\n"
          ]
        }
      ],
      "source": [
        "\n",
        "\n"
      ]
    }
  ],
  "metadata": {
    "kernelspec": {
      "display_name": "Python 3",
      "language": "python",
      "name": "python3"
    },
    "language_info": {
      "codemirror_mode": {
        "name": "ipython",
        "version": 3
      },
      "file_extension": ".py",
      "mimetype": "text/x-python",
      "name": "python",
      "nbconvert_exporter": "python",
      "pygments_lexer": "ipython3",
      "version": "3.8.5"
    },
    "colab": {
      "provenance": []
    }
  },
  "nbformat": 4,
  "nbformat_minor": 0
}